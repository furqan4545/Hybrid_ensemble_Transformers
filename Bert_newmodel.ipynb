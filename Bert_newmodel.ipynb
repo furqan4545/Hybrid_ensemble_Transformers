{
 "cells": [
  {
   "cell_type": "code",
   "execution_count": null,
   "id": "4e533f86",
   "metadata": {},
   "outputs": [],
   "source": []
  },
  {
   "cell_type": "code",
   "execution_count": 3,
   "id": "3fc4bfa1",
   "metadata": {},
   "outputs": [
    {
     "name": "stdout",
     "output_type": "stream",
     "text": [
      "✅✅✅ SESSION DONE\n"
     ]
    },
    {
     "data": {
      "text/html": [
       "<div>\n",
       "<style scoped>\n",
       "    .dataframe tbody tr th:only-of-type {\n",
       "        vertical-align: middle;\n",
       "    }\n",
       "\n",
       "    .dataframe tbody tr th {\n",
       "        vertical-align: top;\n",
       "    }\n",
       "\n",
       "    .dataframe thead th {\n",
       "        text-align: right;\n",
       "    }\n",
       "</style>\n",
       "<table border=\"1\" class=\"dataframe\">\n",
       "  <thead>\n",
       "    <tr style=\"text-align: right;\">\n",
       "      <th></th>\n",
       "      <th>article_link</th>\n",
       "      <th>headline</th>\n",
       "      <th>is_sarcastic</th>\n",
       "    </tr>\n",
       "  </thead>\n",
       "  <tbody>\n",
       "    <tr>\n",
       "      <th>0</th>\n",
       "      <td>https://www.theonion.com/thirtysomething-scien...</td>\n",
       "      <td>thirtysomething scientists unveil doomsday clo...</td>\n",
       "      <td>1</td>\n",
       "    </tr>\n",
       "    <tr>\n",
       "      <th>1</th>\n",
       "      <td>https://www.huffingtonpost.com/entry/donna-edw...</td>\n",
       "      <td>dem rep. totally nails why congress is falling...</td>\n",
       "      <td>0</td>\n",
       "    </tr>\n",
       "    <tr>\n",
       "      <th>2</th>\n",
       "      <td>https://www.huffingtonpost.com/entry/eat-your-...</td>\n",
       "      <td>eat your veggies: 9 deliciously different recipes</td>\n",
       "      <td>0</td>\n",
       "    </tr>\n",
       "    <tr>\n",
       "      <th>3</th>\n",
       "      <td>https://local.theonion.com/inclement-weather-p...</td>\n",
       "      <td>inclement weather prevents liar from getting t...</td>\n",
       "      <td>1</td>\n",
       "    </tr>\n",
       "    <tr>\n",
       "      <th>4</th>\n",
       "      <td>https://www.theonion.com/mother-comes-pretty-c...</td>\n",
       "      <td>mother comes pretty close to using word 'strea...</td>\n",
       "      <td>1</td>\n",
       "    </tr>\n",
       "  </tbody>\n",
       "</table>\n",
       "</div>"
      ],
      "text/plain": [
       "                                        article_link  \\\n",
       "0  https://www.theonion.com/thirtysomething-scien...   \n",
       "1  https://www.huffingtonpost.com/entry/donna-edw...   \n",
       "2  https://www.huffingtonpost.com/entry/eat-your-...   \n",
       "3  https://local.theonion.com/inclement-weather-p...   \n",
       "4  https://www.theonion.com/mother-comes-pretty-c...   \n",
       "\n",
       "                                            headline  is_sarcastic  \n",
       "0  thirtysomething scientists unveil doomsday clo...             1  \n",
       "1  dem rep. totally nails why congress is falling...             0  \n",
       "2  eat your veggies: 9 deliciously different recipes             0  \n",
       "3  inclement weather prevents liar from getting t...             1  \n",
       "4  mother comes pretty close to using word 'strea...             1  "
      ]
     },
     "execution_count": 3,
     "metadata": {},
     "output_type": "execute_result"
    }
   ],
   "source": [
    "# This Python 3 environment comes with many helpful analytics libraries installed\n",
    "import numpy as np # linear algebra\n",
    "import pandas as pd # data processing, CSV file I/O (e.g. pd.read_csv)\n",
    "\n",
    "import json\n",
    "import os \n",
    "import tensorflow as tf\n",
    "import sklearn\n",
    "import seaborn as sbs\n",
    "import sklearn.naive_bayes \n",
    "import sklearn.model_selection\n",
    "import sklearn.metrics\n",
    "\n",
    "\n",
    "json_1 = './news_dataset/Sarcasm_Headlines_Dataset.json'\n",
    "json_2 = './news_dataset/Sarcasm_Headlines_Dataset_v2.json'\n",
    "\n",
    "\n",
    "def load_json(jfile):\n",
    "    data = []\n",
    "    with open(jfile) as f:\n",
    "        for line in f.readlines():\n",
    "            j = json.loads(line)\n",
    "            url, headline, sarcastic = j['article_link'], j['headline'], j['is_sarcastic']\n",
    "            data.append([url, headline, sarcastic])\n",
    "    return pd.DataFrame(data, columns=['article_link', 'headline', 'is_sarcastic'])\n",
    "\n",
    "print(\"✅✅✅ SESSION DONE\")\n",
    "\n",
    "df = load_json(json_1)\n",
    "df2 = load_json(json_2)\n",
    "df2.head()"
   ]
  },
  {
   "cell_type": "code",
   "execution_count": 4,
   "id": "586f93cf",
   "metadata": {},
   "outputs": [
    {
     "data": {
      "text/plain": [
       "(0    0.561047\n",
       " 1    0.438953\n",
       " Name: is_sarcastic, dtype: float64,\n",
       " 0    14985\n",
       " 1    11724\n",
       " Name: is_sarcastic, dtype: int64)"
      ]
     },
     "execution_count": 4,
     "metadata": {},
     "output_type": "execute_result"
    }
   ],
   "source": [
    "# Now check the distribution (ratio) of our target is_sarcastic\n",
    "\n",
    "df.is_sarcastic.value_counts(normalize=True), df.is_sarcastic.value_counts()"
   ]
  },
  {
   "cell_type": "code",
   "execution_count": 5,
   "id": "2ce0926e",
   "metadata": {},
   "outputs": [
    {
     "name": "stderr",
     "output_type": "stream",
     "text": [
      "C:\\Users\\Furqan Ali\\AppData\\Local\\Temp\\ipykernel_9796\\2040605187.py:2: UserWarning: \n",
      "\n",
      "`distplot` is a deprecated function and will be removed in seaborn v0.14.0.\n",
      "\n",
      "Please adapt your code to use either `displot` (a figure-level function with\n",
      "similar flexibility) or `histplot` (an axes-level function for histograms).\n",
      "\n",
      "For a guide to updating your code to use the new functions, please see\n",
      "https://gist.github.com/mwaskom/de44147ed2974457ad6372750bbe5751\n",
      "\n",
      "  sbs.distplot(df.headline.str.len())\n"
     ]
    },
    {
     "data": {
      "text/plain": [
       "<AxesSubplot:xlabel='headline', ylabel='Density'>"
      ]
     },
     "execution_count": 5,
     "metadata": {},
     "output_type": "execute_result"
    },
    {
     "data": {
      "image/png": "[encoded data removed]",
      "text/plain": [
       "<Figure size 432x288 with 1 Axes>"
      ]
     },
     "metadata": {
      "needs_background": "light"
     },
     "output_type": "display_data"
    }
   ],
   "source": [
    "# A birdview of headline length. Seems the majority has a length of 70, that's about 5 to 15 words, which makes sence.\n",
    "sbs.distplot(df.headline.str.len())"
   ]
  },
  {
   "cell_type": "code",
   "execution_count": 6,
   "id": "b81004d0",
   "metadata": {},
   "outputs": [
    {
     "name": "stderr",
     "output_type": "stream",
     "text": [
      "C:\\Users\\Furqan Ali\\AppData\\Local\\Temp\\ipykernel_9796\\988797702.py:8: UserWarning: \n",
      "\n",
      "`distplot` is a deprecated function and will be removed in seaborn v0.14.0.\n",
      "\n",
      "Please adapt your code to use either `displot` (a figure-level function with\n",
      "similar flexibility) or `histplot` (an axes-level function for histograms).\n",
      "\n",
      "For a guide to updating your code to use the new functions, please see\n",
      "https://gist.github.com/mwaskom/de44147ed2974457ad6372750bbe5751\n",
      "\n",
      "  sbs.distplot([len(l) for l in train_inputs])\n"
     ]
    },
    {
     "data": {
      "text/plain": [
       "<AxesSubplot:ylabel='Density'>"
      ]
     },
     "execution_count": 6,
     "metadata": {},
     "output_type": "execute_result"
    },
    {
     "data": {
      "image/png": "[encoded data removed]",
      "text/plain": [
       "<Figure size 432x288 with 1 Axes>"
      ]
     },
     "metadata": {
      "needs_background": "light"
     },
     "output_type": "display_data"
    }
   ],
   "source": [
    "# Building Base Model: Naive Bayes\n",
    "# First step, we should tokenize texts into vectors.\n",
    "\n",
    "vocab_size = 10000 # max_features \n",
    "tokenizer = tf.keras.preprocessing.text.Tokenizer(num_words=vocab_size)\n",
    "tokenizer.fit_on_texts(df.headline)\n",
    "train_inputs = tokenizer.texts_to_sequences(df.headline)\n",
    "sbs.distplot([len(l) for l in train_inputs])"
   ]
  },
  {
   "cell_type": "code",
   "execution_count": 7,
   "id": "a415adf7",
   "metadata": {},
   "outputs": [
    {
     "data": {
      "text/plain": [
       "array([ 307,  678, 3336, 2297,   47,  381, 2575,    5, 2576, 8433,    0,\n",
       "          0,    0,    0,    0,    0,    0,    0,    0,    0])"
      ]
     },
     "execution_count": 7,
     "metadata": {},
     "output_type": "execute_result"
    }
   ],
   "source": [
    "train_inputs = tf.keras.preprocessing.sequence.pad_sequences(train_inputs, padding='post', maxlen=20)\n",
    "train_labels = df['is_sarcastic']\n",
    "\n",
    "# Split data into train /validation \n",
    "X_train, X_val, y_train, y_val = sklearn.model_selection.train_test_split(train_inputs, train_labels, test_size=0.2, random_state=0)\n",
    "train_inputs[0]"
   ]
  },
  {
   "cell_type": "code",
   "execution_count": 8,
   "id": "4cf9c9f8",
   "metadata": {},
   "outputs": [
    {
     "data": {
      "text/html": [
       "<style>#sk-container-id-1 {color: black;background-color: white;}#sk-container-id-1 pre{padding: 0;}#sk-container-id-1 div.sk-toggleable {background-color: white;}#sk-container-id-1 label.sk-toggleable__label {cursor: pointer;display: block;width: 100%;margin-bottom: 0;padding: 0.3em;box-sizing: border-box;text-align: center;}#sk-container-id-1 label.sk-toggleable__label-arrow:before {content: \"▸\";float: left;margin-right: 0.25em;color: #696969;}#sk-container-id-1 label.sk-toggleable__label-arrow:hover:before {color: black;}#sk-container-id-1 div.sk-estimator:hover label.sk-toggleable__label-arrow:before {color: black;}#sk-container-id-1 div.sk-toggleable__content {max-height: 0;max-width: 0;overflow: hidden;text-align: left;background-color: #f0f8ff;}#sk-container-id-1 div.sk-toggleable__content pre {margin: 0.2em;color: black;border-radius: 0.25em;background-color: #f0f8ff;}#sk-container-id-1 input.sk-toggleable__control:checked~div.sk-toggleable__content {max-height: 200px;max-width: 100%;overflow: auto;}#sk-container-id-1 input.sk-toggleable__control:checked~label.sk-toggleable__label-arrow:before {content: \"▾\";}#sk-container-id-1 div.sk-estimator input.sk-toggleable__control:checked~label.sk-toggleable__label {background-color: #d4ebff;}#sk-container-id-1 div.sk-label input.sk-toggleable__control:checked~label.sk-toggleable__label {background-color: #d4ebff;}#sk-container-id-1 input.sk-hidden--visually {border: 0;clip: rect(1px 1px 1px 1px);clip: rect(1px, 1px, 1px, 1px);height: 1px;margin: -1px;overflow: hidden;padding: 0;position: absolute;width: 1px;}#sk-container-id-1 div.sk-estimator {font-family: monospace;background-color: #f0f8ff;border: 1px dotted black;border-radius: 0.25em;box-sizing: border-box;margin-bottom: 0.5em;}#sk-container-id-1 div.sk-estimator:hover {background-color: #d4ebff;}#sk-container-id-1 div.sk-parallel-item::after {content: \"\";width: 100%;border-bottom: 1px solid gray;flex-grow: 1;}#sk-container-id-1 div.sk-label:hover label.sk-toggleable__label {background-color: #d4ebff;}#sk-container-id-1 div.sk-serial::before {content: \"\";position: absolute;border-left: 1px solid gray;box-sizing: border-box;top: 0;bottom: 0;left: 50%;z-index: 0;}#sk-container-id-1 div.sk-serial {display: flex;flex-direction: column;align-items: center;background-color: white;padding-right: 0.2em;padding-left: 0.2em;position: relative;}#sk-container-id-1 div.sk-item {position: relative;z-index: 1;}#sk-container-id-1 div.sk-parallel {display: flex;align-items: stretch;justify-content: center;background-color: white;position: relative;}#sk-container-id-1 div.sk-item::before, #sk-container-id-1 div.sk-parallel-item::before {content: \"\";position: absolute;border-left: 1px solid gray;box-sizing: border-box;top: 0;bottom: 0;left: 50%;z-index: -1;}#sk-container-id-1 div.sk-parallel-item {display: flex;flex-direction: column;z-index: 1;position: relative;background-color: white;}#sk-container-id-1 div.sk-parallel-item:first-child::after {align-self: flex-end;width: 50%;}#sk-container-id-1 div.sk-parallel-item:last-child::after {align-self: flex-start;width: 50%;}#sk-container-id-1 div.sk-parallel-item:only-child::after {width: 0;}#sk-container-id-1 div.sk-dashed-wrapped {border: 1px dashed gray;margin: 0 0.4em 0.5em 0.4em;box-sizing: border-box;padding-bottom: 0.4em;background-color: white;}#sk-container-id-1 div.sk-label label {font-family: monospace;font-weight: bold;display: inline-block;line-height: 1.2em;}#sk-container-id-1 div.sk-label-container {text-align: center;}#sk-container-id-1 div.sk-container {/* jupyter's `normalize.less` sets `[hidden] { display: none; }` but bootstrap.min.css set `[hidden] { display: none !important; }` so we also need the `!important` here to be able to override the default hidden behavior on the sphinx rendered scikit-learn.org. See: https://github.com/scikit-learn/scikit-learn/issues/21755 */display: inline-block !important;position: relative;}#sk-container-id-1 div.sk-text-repr-fallback {display: none;}</style><div id=\"sk-container-id-1\" class=\"sk-top-container\"><div class=\"sk-text-repr-fallback\"><pre>MultinomialNB()</pre><b>In a Jupyter environment, please rerun this cell to show the HTML representation or trust the notebook. <br />On GitHub, the HTML representation is unable to render, please try loading this page with nbviewer.org.</b></div><div class=\"sk-container\" hidden><div class=\"sk-item\"><div class=\"sk-estimator sk-toggleable\"><input class=\"sk-toggleable__control sk-hidden--visually\" id=\"sk-estimator-id-1\" type=\"checkbox\" checked><label for=\"sk-estimator-id-1\" class=\"sk-toggleable__label sk-toggleable__label-arrow\">MultinomialNB</label><div class=\"sk-toggleable__content\"><pre>MultinomialNB()</pre></div></div></div></div></div>"
      ],
      "text/plain": [
       "MultinomialNB()"
      ]
     },
     "execution_count": 8,
     "metadata": {},
     "output_type": "execute_result"
    }
   ],
   "source": [
    "nb = sklearn.naive_bayes.MultinomialNB()\n",
    "nb.fit(X_train, y_train)"
   ]
  },
  {
   "cell_type": "code",
   "execution_count": 9,
   "id": "3b694c82",
   "metadata": {},
   "outputs": [
    {
     "name": "stdout",
     "output_type": "stream",
     "text": [
      "Accuracy score 0.5718831898165481\n",
      "Classification report\n",
      "               precision    recall  f1-score   support\n",
      "\n",
      "           0       0.60      0.69      0.64      3007\n",
      "           1       0.51      0.42      0.46      2335\n",
      "\n",
      "    accuracy                           0.57      5342\n",
      "   macro avg       0.56      0.55      0.55      5342\n",
      "weighted avg       0.56      0.57      0.56      5342\n",
      "\n"
     ]
    }
   ],
   "source": [
    "# Validate how the model performs.\n",
    "\n",
    "# Turs out that the accuracy_score is only 0.58, which is merely a little better than random guess.\n",
    "# But at least wew know what to expect now. \n",
    "# We're going to try more powerful models, e.g., CNN, to see whether we can reach a accuracy_score = 0.7 or higher\n",
    "\n",
    "y_preds = nb.predict(X_val)\n",
    "print(f\"Accuracy score\", sklearn.metrics.accuracy_score(y_val, y_preds))\n",
    "print(f\"Classification report\\n\", sklearn.metrics.classification_report(y_val, y_preds))"
   ]
  },
  {
   "cell_type": "code",
   "execution_count": 10,
   "id": "9e22bea6",
   "metadata": {},
   "outputs": [
    {
     "name": "stdout",
     "output_type": "stream",
     "text": [
      "Model: \"model\"\n",
      "_________________________________________________________________\n",
      " Layer (type)                Output Shape              Param #   \n",
      "=================================================================\n",
      " input_1 (InputLayer)        [(None, 20)]              0         \n",
      "                                                                 \n",
      " embedding (Embedding)       (None, 20, 128)           1280000   \n",
      "                                                                 \n",
      " bidirectional (Bidirectiona  (None, 20, 64)           41216     \n",
      " l)                                                              \n",
      "                                                                 \n",
      " global_max_pooling1d (Globa  (None, 64)               0         \n",
      " lMaxPooling1D)                                                  \n",
      "                                                                 \n",
      " dense (Dense)               (None, 64)                4160      \n",
      "                                                                 \n",
      " dropout (Dropout)           (None, 64)                0         \n",
      "                                                                 \n",
      " dense_1 (Dense)             (None, 32)                2080      \n",
      "                                                                 \n",
      " dropout_1 (Dropout)         (None, 32)                0         \n",
      "                                                                 \n",
      " dense_2 (Dense)             (None, 1)                 33        \n",
      "                                                                 \n",
      "=================================================================\n",
      "Total params: 1,327,489\n",
      "Trainable params: 1,327,489\n",
      "Non-trainable params: 0\n",
      "_________________________________________________________________\n"
     ]
    }
   ],
   "source": [
    "# Another model: Keras LSTM\n",
    "\n",
    "max_len = 20\n",
    "text_input = tf.keras.Input(shape=(max_len, ))\n",
    "embed_text = tf.keras.layers.Embedding(vocab_size, 128)(text_input)\n",
    "\n",
    "net = tf.keras.layers.Bidirectional(tf.keras.layers.LSTM(32, return_sequences=True))(embed_text)\n",
    "net = tf.keras.layers.GlobalMaxPool1D()(net)\n",
    "net = tf.keras.layers.Dense(64, activation='relu')(net)\n",
    "net = tf.keras.layers.Dropout(0.4)(net)\n",
    "net = tf.keras.layers.Dense(32, activation='relu')(net)\n",
    "net = tf.keras.layers.Dropout(0.4)(net)\n",
    "\n",
    "output = tf.keras.layers.Dense(1, activation='sigmoid')(net)\n",
    "model = tf.keras.models.Model(text_input, output)\n",
    "model.summary()"
   ]
  },
  {
   "cell_type": "code",
   "execution_count": 11,
   "id": "71a0ba1b",
   "metadata": {},
   "outputs": [
    {
     "name": "stdout",
     "output_type": "stream",
     "text": [
      "Epoch 1/30\n",
      "72/76 [===========================>..] - ETA: 0s - loss: 0.5842 - accuracy: 0.6661\n",
      "Epoch 1: val_accuracy improved from -inf to 0.84324, saving model to model_best.hdf5\n",
      "76/76 [==============================] - 5s 23ms/step - loss: 0.5766 - accuracy: 0.6729 - val_loss: 0.3572 - val_accuracy: 0.8432\n",
      "Epoch 2/30\n",
      "71/76 [===========================>..] - ETA: 0s - loss: 0.2867 - accuracy: 0.8927\n",
      "Epoch 2: val_accuracy improved from 0.84324 to 0.85821, saving model to model_best.hdf5\n",
      "76/76 [==============================] - 1s 13ms/step - loss: 0.2865 - accuracy: 0.8920 - val_loss: 0.3255 - val_accuracy: 0.8582\n",
      "Epoch 3/30\n",
      "74/76 [============================>.] - ETA: 0s - loss: 0.1837 - accuracy: 0.9373\n",
      "Epoch 3: val_accuracy improved from 0.85821 to 0.86008, saving model to model_best.hdf5\n",
      "76/76 [==============================] - 1s 12ms/step - loss: 0.1836 - accuracy: 0.9371 - val_loss: 0.3614 - val_accuracy: 0.8601\n",
      "Epoch 4/30\n",
      "76/76 [==============================] - ETA: 0s - loss: 0.1264 - accuracy: 0.9583\n",
      "Epoch 4: val_accuracy did not improve from 0.86008\n",
      "76/76 [==============================] - 1s 12ms/step - loss: 0.1264 - accuracy: 0.9583 - val_loss: 0.4332 - val_accuracy: 0.8549\n",
      "Epoch 5/30\n",
      "76/76 [==============================] - ETA: 0s - loss: 0.0952 - accuracy: 0.9682\n",
      "Epoch 5: val_accuracy did not improve from 0.86008\n",
      "76/76 [==============================] - 1s 12ms/step - loss: 0.0952 - accuracy: 0.9682 - val_loss: 0.5228 - val_accuracy: 0.8521\n",
      "Epoch 6/30\n",
      "76/76 [==============================] - ETA: 0s - loss: 0.0605 - accuracy: 0.9820\n",
      "Epoch 6: val_accuracy did not improve from 0.86008\n",
      "76/76 [==============================] - 1s 12ms/step - loss: 0.0605 - accuracy: 0.9820 - val_loss: 0.6505 - val_accuracy: 0.8456\n",
      "Epoch 7/30\n",
      "76/76 [==============================] - ETA: 0s - loss: 0.0426 - accuracy: 0.9864\n",
      "Epoch 7: val_accuracy did not improve from 0.86008\n",
      "76/76 [==============================] - 1s 12ms/step - loss: 0.0426 - accuracy: 0.9864 - val_loss: 0.6879 - val_accuracy: 0.8526\n",
      "Epoch 8/30\n",
      "75/76 [============================>.] - ETA: 0s - loss: 0.0365 - accuracy: 0.9881\n",
      "Epoch 8: val_accuracy did not improve from 0.86008\n",
      "76/76 [==============================] - 1s 12ms/step - loss: 0.0364 - accuracy: 0.9881 - val_loss: 0.8566 - val_accuracy: 0.8484\n"
     ]
    }
   ],
   "source": [
    "model.compile(loss='binary_crossentropy', optimizer='adam', metrics=['accuracy'])\n",
    "\n",
    "mc = tf.keras.callbacks.ModelCheckpoint('model_best.hdf5', monitor='val_accuracy', \n",
    "                                        verbose=1, save_best_only=True, mode='max')\n",
    "es = tf.keras.callbacks.EarlyStopping(monitor=\"val_accuracy\", mode=\"max\", patience=5)\n",
    "    \n",
    "history = model.fit(X_train, y_train,\n",
    "                    epochs=30, batch_size=256, callbacks=[mc, es], \n",
    "                    validation_split=0.1, verbose=1)"
   ]
  },
  {
   "cell_type": "code",
   "execution_count": 12,
   "id": "12841aac",
   "metadata": {},
   "outputs": [
    {
     "name": "stdout",
     "output_type": "stream",
     "text": [
      "6/6 [==============================] - 1s 4ms/step\n",
      "Test accracy score 0.8558592287532759\n"
     ]
    }
   ],
   "source": [
    "model = tf.keras.models.load_model('model_best.hdf5')\n",
    "y_preds = model.predict(X_val, batch_size=1024).round().astype(int)\n",
    "print(\"Test accracy score\", sklearn.metrics.accuracy_score(y_val, y_preds))"
   ]
  },
  {
   "cell_type": "code",
   "execution_count": 13,
   "id": "4198d2a9",
   "metadata": {},
   "outputs": [],
   "source": [
    "# WordVector Embedding + LSTM\n",
    "\n",
    "# We now use pretrained wordvector \n",
    "# https://code.google.com/archive/p/word2vec/ of Google News (after all, we're dealing with article headlines)."
   ]
  },
  {
   "cell_type": "code",
   "execution_count": 14,
   "id": "c0541546",
   "metadata": {},
   "outputs": [
    {
     "name": "stdout",
     "output_type": "stream",
     "text": [
      "CPU times: total: 15.6 ms\n",
      "Wall time: 56 ms\n"
     ]
    }
   ],
   "source": [
    "%%time\n",
    "import gensim.downloader as api\n",
    "\n",
    "def embed_word_vector(word_index, pretrained='word2vec-google-news-300'):\n",
    "    embed_size = 300 # Google news vector is 300-dimensional\n",
    "    vector = api.load(pretrained)\n",
    "    zeros = [0] * embed_size\n",
    "    matrix = np.zeros((vocab_size, embed_size)) \n",
    "    \n",
    "    for word, i in word_index.items():\n",
    "        if i >= vocab_size or word not in vector: continue \n",
    "        matrix[i] = vector[word]\n",
    "    \n",
    "    print(\"Embed word vector completed.\")\n",
    "    return matrix"
   ]
  },
  {
   "cell_type": "code",
   "execution_count": 15,
   "id": "8cc868cf",
   "metadata": {},
   "outputs": [
    {
     "name": "stdout",
     "output_type": "stream",
     "text": [
      "Embed word vector completed.\n"
     ]
    }
   ],
   "source": [
    "# Update embedding layer weights of our model\n",
    "\n",
    "pretrained = 'glove-wiki-gigaword-300'\n",
    "matrix = embed_word_vector(tokenizer.word_index, pretrained=pretrained)"
   ]
  },
  {
   "cell_type": "code",
   "execution_count": 16,
   "id": "5b62606a",
   "metadata": {},
   "outputs": [
    {
     "name": "stdout",
     "output_type": "stream",
     "text": [
      "Model: \"model_1\"\n",
      "_________________________________________________________________\n",
      " Layer (type)                Output Shape              Param #   \n",
      "=================================================================\n",
      " input_2 (InputLayer)        [(None, 20)]              0         \n",
      "                                                                 \n",
      " embedding_1 (Embedding)     (None, 20, 300)           3000000   \n",
      "                                                                 \n",
      " bidirectional_1 (Bidirectio  (None, 20, 256)          330240    \n",
      " nal)                                                            \n",
      "                                                                 \n",
      " global_max_pooling1d_1 (Glo  (None, 256)              0         \n",
      " balMaxPooling1D)                                                \n",
      "                                                                 \n",
      " dense_3 (Dense)             (None, 64)                16448     \n",
      "                                                                 \n",
      " dropout_2 (Dropout)         (None, 64)                0         \n",
      "                                                                 \n",
      " dense_4 (Dense)             (None, 32)                2080      \n",
      "                                                                 \n",
      " dropout_3 (Dropout)         (None, 32)                0         \n",
      "                                                                 \n",
      " dense_5 (Dense)             (None, 1)                 33        \n",
      "                                                                 \n",
      "=================================================================\n",
      "Total params: 3,348,801\n",
      "Trainable params: 348,801\n",
      "Non-trainable params: 3,000,000\n",
      "_________________________________________________________________\n"
     ]
    }
   ],
   "source": [
    "max_len = 20\n",
    "text_input = tf.keras.Input(shape=(max_len, ))\n",
    "embed_text = tf.keras.layers.Embedding(vocab_size, 300, weights=[matrix], trainable=False)(text_input)\n",
    "\n",
    "net = tf.keras.layers.Bidirectional(tf.keras.layers.GRU(128, return_sequences=True))(embed_text)\n",
    "net = tf.keras.layers.GlobalMaxPool1D()(net)\n",
    "net = tf.keras.layers.Dense(64, activation='relu')(net)\n",
    "net = tf.keras.layers.Dropout(0.4)(net)\n",
    "net = tf.keras.layers.Dense(32, activation='relu')(net)\n",
    "net = tf.keras.layers.Dropout(0.4)(net)\n",
    "\n",
    "output = tf.keras.layers.Dense(1, activation='sigmoid')(net)\n",
    "model = tf.keras.models.Model(text_input, output)\n",
    "model.summary()"
   ]
  },
  {
   "cell_type": "code",
   "execution_count": 17,
   "id": "893c097a",
   "metadata": {},
   "outputs": [
    {
     "name": "stdout",
     "output_type": "stream",
     "text": [
      "Epoch 1/30\n",
      "76/76 [==============================] - ETA: 0s - loss: 0.5844 - accuracy: 0.6848\n",
      "Epoch 1: val_accuracy improved from -inf to 0.79925, saving model to model_best_embed.hdf5\n",
      "76/76 [==============================] - 4s 23ms/step - loss: 0.5844 - accuracy: 0.6848 - val_loss: 0.4361 - val_accuracy: 0.7993\n",
      "Epoch 2/30\n",
      "76/76 [==============================] - ETA: 0s - loss: 0.4113 - accuracy: 0.8221\n",
      "Epoch 2: val_accuracy improved from 0.79925 to 0.83715, saving model to model_best_embed.hdf5\n",
      "76/76 [==============================] - 1s 13ms/step - loss: 0.4113 - accuracy: 0.8221 - val_loss: 0.3585 - val_accuracy: 0.8372\n",
      "Epoch 3/30\n",
      "73/76 [===========================>..] - ETA: 0s - loss: 0.3282 - accuracy: 0.8675\n",
      "Epoch 3: val_accuracy improved from 0.83715 to 0.85962, saving model to model_best_embed.hdf5\n",
      "76/76 [==============================] - 1s 13ms/step - loss: 0.3282 - accuracy: 0.8673 - val_loss: 0.3195 - val_accuracy: 0.8596\n",
      "Epoch 4/30\n",
      "75/76 [============================>.] - ETA: 0s - loss: 0.2677 - accuracy: 0.8936\n",
      "Epoch 4: val_accuracy improved from 0.85962 to 0.86383, saving model to model_best_embed.hdf5\n",
      "76/76 [==============================] - 1s 13ms/step - loss: 0.2678 - accuracy: 0.8936 - val_loss: 0.3148 - val_accuracy: 0.8638\n",
      "Epoch 5/30\n",
      "74/76 [============================>.] - ETA: 0s - loss: 0.2141 - accuracy: 0.9217\n",
      "Epoch 5: val_accuracy did not improve from 0.86383\n",
      "76/76 [==============================] - 1s 13ms/step - loss: 0.2149 - accuracy: 0.9212 - val_loss: 0.3660 - val_accuracy: 0.8512\n",
      "Epoch 6/30\n",
      "74/76 [============================>.] - ETA: 0s - loss: 0.1658 - accuracy: 0.9399\n",
      "Epoch 6: val_accuracy did not improve from 0.86383\n",
      "76/76 [==============================] - 1s 12ms/step - loss: 0.1657 - accuracy: 0.9399 - val_loss: 0.3613 - val_accuracy: 0.8587\n",
      "Epoch 7/30\n",
      "74/76 [============================>.] - ETA: 0s - loss: 0.1163 - accuracy: 0.9615\n",
      "Epoch 7: val_accuracy did not improve from 0.86383\n",
      "76/76 [==============================] - 2s 22ms/step - loss: 0.1169 - accuracy: 0.9613 - val_loss: 0.4049 - val_accuracy: 0.8470\n",
      "Epoch 8/30\n",
      "76/76 [==============================] - ETA: 0s - loss: 0.0875 - accuracy: 0.9717\n",
      "Epoch 8: val_accuracy did not improve from 0.86383\n",
      "76/76 [==============================] - 2s 25ms/step - loss: 0.0875 - accuracy: 0.9717 - val_loss: 0.4545 - val_accuracy: 0.8531\n",
      "Epoch 9/30\n",
      "76/76 [==============================] - ETA: 0s - loss: 0.0711 - accuracy: 0.9763\n",
      "Epoch 9: val_accuracy did not improve from 0.86383\n",
      "76/76 [==============================] - 1s 12ms/step - loss: 0.0711 - accuracy: 0.9763 - val_loss: 0.4919 - val_accuracy: 0.8563\n"
     ]
    }
   ],
   "source": [
    "model.compile(loss='binary_crossentropy', optimizer='adam', metrics=['accuracy'])\n",
    "\n",
    "mc = tf.keras.callbacks.ModelCheckpoint('model_best_embed.hdf5', monitor='val_accuracy', \n",
    "                                        verbose=1, save_best_only=True, mode='max')\n",
    "es = tf.keras.callbacks.EarlyStopping(monitor=\"val_accuracy\", mode=\"max\", patience=5)\n",
    "    \n",
    "history = model.fit(X_train, y_train,\n",
    "                    epochs=30, batch_size=256, callbacks=[mc, es], \n",
    "                    validation_split=0.1, verbose=1)"
   ]
  },
  {
   "cell_type": "code",
   "execution_count": 18,
   "id": "b274fef7",
   "metadata": {},
   "outputs": [],
   "source": [
    "# From the training history, we can see performance of this model is pretty similiar to our previous one. Thus, we know \n",
    "# pretrained NLP models are not going help us much. "
   ]
  },
  {
   "cell_type": "code",
   "execution_count": 19,
   "id": "3c770f70",
   "metadata": {},
   "outputs": [
    {
     "name": "stdout",
     "output_type": "stream",
     "text": [
      "6/6 [==============================] - 1s 9ms/step\n",
      "Test accracy score 0.8637214526394609\n"
     ]
    }
   ],
   "source": [
    "model = tf.keras.models.load_model('model_best_embed.hdf5')\n",
    "y_preds = model.predict(X_val, batch_size=1024).round().astype(int)\n",
    "print(\"Test accracy score\", sklearn.metrics.accuracy_score(y_val, y_preds))"
   ]
  },
  {
   "cell_type": "code",
   "execution_count": 20,
   "id": "ddba6a5a",
   "metadata": {},
   "outputs": [],
   "source": [
    "# BERT, NLP text classification killer\n",
    "\n",
    "# import wget\n",
    "\n",
    "\n",
    "# url = 'https://github.com/google-research/bert/blob/master/tokenization.py'\n",
    "# filename = wget.download(url)\n",
    "# print(filename)"
   ]
  },
  {
   "cell_type": "code",
   "execution_count": 21,
   "id": "268501b5",
   "metadata": {},
   "outputs": [],
   "source": [
    "import tensorflow_hub as hub \n",
    "import tokenization\n",
    "\n",
    "module_url = 'https://tfhub.dev/tensorflow/bert_en_uncased_L-12_H-768_A-12/2'\n",
    "bert_layer = hub.KerasLayer(module_url, trainable=True)"
   ]
  },
  {
   "cell_type": "code",
   "execution_count": 22,
   "id": "c397226c",
   "metadata": {},
   "outputs": [],
   "source": [
    "vocab_file = bert_layer.resolved_object.vocab_file.asset_path.numpy()\n",
    "do_lower_case = bert_layer.resolved_object.do_lower_case.numpy()\n",
    "tokenizer = tokenization.FullTokenizer(vocab_file, do_lower_case)"
   ]
  },
  {
   "cell_type": "code",
   "execution_count": 23,
   "id": "9be1a328",
   "metadata": {},
   "outputs": [],
   "source": [
    "def bert_encode(texts, tokenizer, max_len=512):\n",
    "    all_tokens = []\n",
    "    all_masks = []\n",
    "    all_segments = []\n",
    "    \n",
    "    for text in texts:\n",
    "        text = tokenizer.tokenize(text)\n",
    "            \n",
    "        text = text[:max_len-2]\n",
    "        input_sequence = [\"[CLS]\"] + text + [\"[SEP]\"]\n",
    "        pad_len = max_len - len(input_sequence)\n",
    "        \n",
    "        tokens = tokenizer.convert_tokens_to_ids(input_sequence) + [0] * pad_len\n",
    "        pad_masks = [1] * len(input_sequence) + [0] * pad_len\n",
    "        segment_ids = [0] * max_len\n",
    "        \n",
    "        all_tokens.append(tokens)\n",
    "        all_masks.append(pad_masks)\n",
    "        all_segments.append(segment_ids)\n",
    "    \n",
    "    return np.array(all_tokens), np.array(all_masks), np.array(all_segments)\n",
    "\n",
    "def build_model(bert_layer, max_len=512):\n",
    "    input_word_ids = tf.keras.Input(shape=(max_len,), dtype=tf.int32, name=\"input_word_ids\")\n",
    "    input_mask = tf.keras.Input(shape=(max_len,), dtype=tf.int32, name=\"input_mask\")\n",
    "    segment_ids = tf.keras.Input(shape=(max_len,), dtype=tf.int32, name=\"segment_ids\")\n",
    "\n",
    "    pooled_output, sequence_output = bert_layer([input_word_ids, input_mask, segment_ids])\n",
    "    clf_output = sequence_output[:, 0, :]\n",
    "    net = tf.keras.layers.Dense(64, activation='relu')(clf_output)\n",
    "    net = tf.keras.layers.Dropout(0.2)(net)\n",
    "    net = tf.keras.layers.Dense(32, activation='relu')(net)\n",
    "    net = tf.keras.layers.Dropout(0.2)(net)\n",
    "    out = tf.keras.layers.Dense(1, activation='sigmoid')(net)\n",
    "    \n",
    "    model = tf.keras.models.Model(inputs=[input_word_ids, input_mask, segment_ids], outputs=out)\n",
    "    model.compile(tf.keras.optimizers.Adam(lr=1e-5), loss='binary_crossentropy', metrics=['accuracy'])\n",
    "    \n",
    "    return model"
   ]
  },
  {
   "cell_type": "code",
   "execution_count": 24,
   "id": "353fe3bf",
   "metadata": {},
   "outputs": [],
   "source": [
    "# Remember in previous sections, we have explored on the headline length. Most of them has a length between 50 to 150,\n",
    "# and the majority has a length of 70. We set the length to 120."
   ]
  },
  {
   "cell_type": "code",
   "execution_count": 25,
   "id": "c45ecfe1",
   "metadata": {},
   "outputs": [],
   "source": [
    "max_len = 100\n",
    "X_train, X_val, y_train, y_val = sklearn.model_selection.train_test_split(df.headline, df['is_sarcastic'], \n",
    "                                                                          test_size=0.1, random_state=0)\n",
    "X_train = bert_encode(X_train, tokenizer, max_len=max_len)\n",
    "X_val = bert_encode(X_val, tokenizer, max_len=max_len)"
   ]
  },
  {
   "cell_type": "code",
   "execution_count": 26,
   "id": "48ccf52f",
   "metadata": {},
   "outputs": [
    {
     "name": "stdout",
     "output_type": "stream",
     "text": [
      "Model: \"model_2\"\n",
      "__________________________________________________________________________________________________\n",
      " Layer (type)                   Output Shape         Param #     Connected to                     \n",
      "==================================================================================================\n",
      " input_word_ids (InputLayer)    [(None, 100)]        0           []                               \n",
      "                                                                                                  \n",
      " input_mask (InputLayer)        [(None, 100)]        0           []                               \n",
      "                                                                                                  \n",
      " segment_ids (InputLayer)       [(None, 100)]        0           []                               \n",
      "                                                                                                  \n",
      " keras_layer_1 (KerasLayer)     [(None, 768),        109482241   ['input_word_ids[0][0]',         \n",
      "                                 (None, 100, 768)]                'input_mask[0][0]',             \n",
      "                                                                  'segment_ids[0][0]']            \n",
      "                                                                                                  \n",
      " tf.__operators__.getitem (Slic  (None, 768)         0           ['keras_layer_1[0][1]']          \n",
      " ingOpLambda)                                                                                     \n",
      "                                                                                                  \n",
      " dense_6 (Dense)                (None, 64)           49216       ['tf.__operators__.getitem[0][0]'\n",
      "                                                                 ]                                \n",
      "                                                                                                  \n",
      " dropout_4 (Dropout)            (None, 64)           0           ['dense_6[0][0]']                \n",
      "                                                                                                  \n",
      " dense_7 (Dense)                (None, 32)           2080        ['dropout_4[0][0]']              \n",
      "                                                                                                  \n",
      " dropout_5 (Dropout)            (None, 32)           0           ['dense_7[0][0]']                \n",
      "                                                                                                  \n",
      " dense_8 (Dense)                (None, 1)            33          ['dropout_5[0][0]']              \n",
      "                                                                                                  \n",
      "==================================================================================================\n",
      "Total params: 109,533,570\n",
      "Trainable params: 109,533,569\n",
      "Non-trainable params: 1\n",
      "__________________________________________________________________________________________________\n"
     ]
    },
    {
     "name": "stderr",
     "output_type": "stream",
     "text": [
      "c:\\users\\furqan ali\\desktop\\python\\env\\lib\\site-packages\\keras\\optimizers\\optimizer_v2\\adam.py:110: UserWarning: The `lr` argument is deprecated, use `learning_rate` instead.\n",
      "  super(Adam, self).__init__(name, **kwargs)\n"
     ]
    }
   ],
   "source": [
    "# Let's build the model and train on it.\n",
    "\n",
    "model = build_model(bert_layer, max_len=max_len)\n",
    "model.summary()"
   ]
  },
  {
   "cell_type": "code",
   "execution_count": 27,
   "id": "f7d944e1",
   "metadata": {},
   "outputs": [
    {
     "name": "stdout",
     "output_type": "stream",
     "text": [
      "Epoch 1/3\n"
     ]
    },
    {
     "ename": "ResourceExhaustedError",
     "evalue": "Graph execution error:\n\nOOM when allocating tensor with shape[1600,768] and type float on /job:localhost/replica:0/task:0/device:GPU:0 by allocator GPU_0_bfc\n\t [[{{node transformer/layer_2/self_attention/query/einsum/Einsum}}]]\nHint: If you want to see a list of allocated tensors when OOM happens, add report_tensor_allocations_upon_oom to RunOptions for current allocation info. This isn't available when running in Eager mode.\n [Op:__inference_train_function_81318]",
     "output_type": "error",
     "traceback": [
      "\u001b[1;31m---------------------------------------------------------------------------\u001b[0m",
      "\u001b[1;31mResourceExhaustedError\u001b[0m                    Traceback (most recent call last)",
      "File \u001b[1;32m<timed exec>:4\u001b[0m, in \u001b[0;36m<module>\u001b[1;34m\u001b[0m\n",
      "File \u001b[1;32mc:\\users\\furqan ali\\desktop\\python\\env\\lib\\site-packages\\keras\\utils\\traceback_utils.py:67\u001b[0m, in \u001b[0;36mfilter_traceback.<locals>.error_handler\u001b[1;34m(*args, **kwargs)\u001b[0m\n\u001b[0;32m     65\u001b[0m \u001b[38;5;28;01mexcept\u001b[39;00m \u001b[38;5;167;01mException\u001b[39;00m \u001b[38;5;28;01mas\u001b[39;00m e:  \u001b[38;5;66;03m# pylint: disable=broad-except\u001b[39;00m\n\u001b[0;32m     66\u001b[0m   filtered_tb \u001b[38;5;241m=\u001b[39m _process_traceback_frames(e\u001b[38;5;241m.\u001b[39m__traceback__)\n\u001b[1;32m---> 67\u001b[0m   \u001b[38;5;28;01mraise\u001b[39;00m e\u001b[38;5;241m.\u001b[39mwith_traceback(filtered_tb) \u001b[38;5;28;01mfrom\u001b[39;00m \u001b[38;5;28mNone\u001b[39m\n\u001b[0;32m     68\u001b[0m \u001b[38;5;28;01mfinally\u001b[39;00m:\n\u001b[0;32m     69\u001b[0m   \u001b[38;5;28;01mdel\u001b[39;00m filtered_tb\n",
      "File \u001b[1;32mc:\\users\\furqan ali\\desktop\\python\\env\\lib\\site-packages\\tensorflow\\python\\eager\\execute.py:54\u001b[0m, in \u001b[0;36mquick_execute\u001b[1;34m(op_name, num_outputs, inputs, attrs, ctx, name)\u001b[0m\n\u001b[0;32m     52\u001b[0m \u001b[38;5;28;01mtry\u001b[39;00m:\n\u001b[0;32m     53\u001b[0m   ctx\u001b[38;5;241m.\u001b[39mensure_initialized()\n\u001b[1;32m---> 54\u001b[0m   tensors \u001b[38;5;241m=\u001b[39m pywrap_tfe\u001b[38;5;241m.\u001b[39mTFE_Py_Execute(ctx\u001b[38;5;241m.\u001b[39m_handle, device_name, op_name,\n\u001b[0;32m     55\u001b[0m                                       inputs, attrs, num_outputs)\n\u001b[0;32m     56\u001b[0m \u001b[38;5;28;01mexcept\u001b[39;00m core\u001b[38;5;241m.\u001b[39m_NotOkStatusException \u001b[38;5;28;01mas\u001b[39;00m e:\n\u001b[0;32m     57\u001b[0m   \u001b[38;5;28;01mif\u001b[39;00m name \u001b[38;5;129;01mis\u001b[39;00m \u001b[38;5;129;01mnot\u001b[39;00m \u001b[38;5;28;01mNone\u001b[39;00m:\n",
      "\u001b[1;31mResourceExhaustedError\u001b[0m: Graph execution error:\n\nOOM when allocating tensor with shape[1600,768] and type float on /job:localhost/replica:0/task:0/device:GPU:0 by allocator GPU_0_bfc\n\t [[{{node transformer/layer_2/self_attention/query/einsum/Einsum}}]]\nHint: If you want to see a list of allocated tensors when OOM happens, add report_tensor_allocations_upon_oom to RunOptions for current allocation info. This isn't available when running in Eager mode.\n [Op:__inference_train_function_81318]"
     ]
    }
   ],
   "source": [
    "%%time\n",
    "checkpoint = tf.keras.callbacks.ModelCheckpoint('model.h5', monitor='val_accuracy', save_best_only=True, verbose=1)\n",
    "earlystopping = tf.keras.callbacks.EarlyStopping(monitor='val_accuracy', patience=3, verbose=1)\n",
    "\n",
    "train_history = model.fit(\n",
    "    X_train, y_train, \n",
    "    validation_split=0.1,\n",
    "    epochs=3,\n",
    "    callbacks=[checkpoint, earlystopping],\n",
    "    batch_size=16,\n",
    "    verbose=1\n",
    ")"
   ]
  },
  {
   "cell_type": "code",
   "execution_count": null,
   "id": "bcd52498",
   "metadata": {},
   "outputs": [],
   "source": [
    "%%time\n",
    "model.load_weights('bert_modelV1.h5')\n",
    "y_preds = model.predict(X_val).round().astype(int)\n",
    "print(\"Validation accuracy: \", sklearn.metrics.accuracy_score(y_val, y_preds))"
   ]
  },
  {
   "cell_type": "code",
   "execution_count": null,
   "id": "3ee8f74e",
   "metadata": {},
   "outputs": [],
   "source": []
  },
  {
   "cell_type": "code",
   "execution_count": null,
   "id": "89fb03b1",
   "metadata": {},
   "outputs": [],
   "source": []
  },
  {
   "cell_type": "code",
   "execution_count": null,
   "id": "cdd064ad",
   "metadata": {},
   "outputs": [],
   "source": []
  },
  {
   "cell_type": "code",
   "execution_count": null,
   "id": "3bb224ad",
   "metadata": {},
   "outputs": [],
   "source": []
  },
  {
   "cell_type": "code",
   "execution_count": null,
   "id": "5394b8e9",
   "metadata": {},
   "outputs": [],
   "source": []
  },
  {
   "cell_type": "code",
   "execution_count": null,
   "id": "c87446a1",
   "metadata": {},
   "outputs": [],
   "source": []
  },
  {
   "cell_type": "code",
   "execution_count": null,
   "id": "6cd79ae3",
   "metadata": {},
   "outputs": [],
   "source": []
  },
  {
   "cell_type": "code",
   "execution_count": null,
   "id": "a7d67400",
   "metadata": {},
   "outputs": [],
   "source": []
  }
 ],
 "metadata": {
  "kernelspec": {
   "display_name": "Python 3 (ipykernel)",
   "language": "python",
   "name": "python3"
  },
  "language_info": {
   "codemirror_mode": {
    "name": "ipython",
    "version": 3
   },
   "file_extension": ".py",
   "mimetype": "text/x-python",
   "name": "python",
   "nbconvert_exporter": "python",
   "pygments_lexer": "ipython3",
   "version": "3.8.6"
  }
 },
 "nbformat": 4,
 "nbformat_minor": 5
}
