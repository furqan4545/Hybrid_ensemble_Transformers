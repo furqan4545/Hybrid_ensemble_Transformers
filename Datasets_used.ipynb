{
 "cells": [
  {
   "cell_type": "code",
   "execution_count": null,
   "id": "39cd7020",
   "metadata": {},
   "outputs": [],
   "source": [
    "# News headline dataset --> https://www.kaggle.com/datasets/rmisra/news-headlines-dataset-for-sarcasm-detection\n",
    "# SPIRS dataset  --> github: https://github.com/bshmueli/SPIRS\n",
    "# Reddit dataset --> https://www.kaggle.com/datasets/danofer/sarcasm"
   ]
  }
 ],
 "metadata": {
  "kernelspec": {
   "display_name": "Python 3 (ipykernel)",
   "language": "python",
   "name": "python3"
  },
  "language_info": {
   "codemirror_mode": {
    "name": "ipython",
    "version": 3
   },
   "file_extension": ".py",
   "mimetype": "text/x-python",
   "name": "python",
   "nbconvert_exporter": "python",
   "pygments_lexer": "ipython3",
   "version": "3.8.6"
  }
 },
 "nbformat": 4,
 "nbformat_minor": 5
}
